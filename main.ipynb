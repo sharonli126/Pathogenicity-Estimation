{
 "cells": [
  {
   "cell_type": "markdown",
   "metadata": {},
   "source": [
    "This is the notebook to run add all the anotation, run the scoring system and obtain the output."
   ]
  },
  {
   "cell_type": "markdown",
   "metadata": {},
   "source": [
    "# Step 1: Import all the packages and create a duckdb file"
   ]
  },
  {
   "cell_type": "code",
   "execution_count": 1,
   "metadata": {},
   "outputs": [],
   "source": [
    "# import all the package required in this system\n",
    "import duckdb as db\n",
    "import pandas as pd\n",
    "from src import add_annotation\n",
    "from src import scoring\n",
    "from src import extraction\n",
    "from src import validation\n",
    "from src import histogram"
   ]
  },
  {
   "cell_type": "code",
   "execution_count": null,
   "metadata": {},
   "outputs": [],
   "source": [
    "# establish and connect duckdb\n",
    "file_path = \"scoring.db\" \n",
    "con = db.connect(file_path) # create a duckdb file with and connect it"
   ]
  },
  {
   "cell_type": "markdown",
   "metadata": {},
   "source": [
    "# Step 2: Read patient dataset that you would like to do the scoring"
   ]
  },
  {
   "cell_type": "code",
   "execution_count": null,
   "metadata": {},
   "outputs": [],
   "source": [
    "tsv_file_path = \"data/data/random_data.tsv\" \n",
    "test_data = pd.read_csv(tsv_file_path, sep='\\t') # modify to the name you would like "
   ]
  },
  {
   "cell_type": "markdown",
   "metadata": {},
   "source": [
    "# Step 3: Add all annotations, except alpha missese"
   ]
  },
  {
   "cell_type": "code",
   "execution_count": null,
   "metadata": {},
   "outputs": [],
   "source": [
    "# mgi\n",
    "file_path_mouse_marker = \"data/data/mouse_notes.csv\"\n",
    "file_path_human_mouse_symbol = \"data/data/HMD_HumanPhenotype.rpt.txt\"\n",
    "mgi_df, human_mouse_symbol = add_annotation.mgi_data(file_path_mouse_marker, file_path_human_mouse_symbol)\n",
    "\n",
    "# gene otonology\n",
    "gene_dict = add_annotation.read_gmt(file_path = 'data/data/c5.go.v2023.2.Hs.symbols.gmt') \n",
    "\n",
    "# revel \n",
    "revel_file_path= \"data/data/revel_with_transcript_ids_small\"\n",
    "ids_dictionary = add_annotation.create_revel_dictionary(revel_file_path) \n",
    "\n",
    "# gnomad 4.1 \n",
    "file_path = \"data/data/gnomad.v4.1.constraint_metrics.tsv\"\n",
    "filtered_gnomad_4_1 = add_annotation.filted_gnomad_4_1(file_path)\n",
    "\n"
   ]
  },
  {
   "cell_type": "code",
   "execution_count": null,
   "metadata": {},
   "outputs": [],
   "source": [
    "test_data = add_annotation.adding_all_an(dataset= test_data, mgi_df = mgi_df, gene_dict = gene_dict, ids_dictionary = ids_dictionary, filtered_gnomad_4_1 = filtered_gnomad_4_1, human_mouse_symbol = human_mouse_symbol, dataset_name=None, file_path=None)\n",
    "# you may save the whole tsv with all annotations \n",
    "# file_path = \"\"\n",
    "# test_data.to_csv(file_path, sep='\\t', index=False) \n",
    "# extract only the required attributes\n",
    "combined = add_annotation.extract_data(test_data)\n",
    "file_path = \"data/test_data.tsv\" # change to your file path \n",
    "combined.to_csv(file_path, sep='\\t', index=False) "
   ]
  },
  {
   "cell_type": "markdown",
   "metadata": {},
   "source": [
    "# Step 4: Load patient data to duckdb"
   ]
  },
  {
   "cell_type": "code",
   "execution_count": null,
   "metadata": {},
   "outputs": [],
   "source": [
    "con.execute(\"CREATE OR REPLACE TABLE test_data AS SELECT * FROM 'data/test_data.tsv';\") # replace with your own file path to the extracted dataset\n",
    "con.execute(\"CREATE OR REPLACE TABLE data_freq AS SELECT uniqueValue, distinct_patientDatabaseId_count, variant_frequency FROM 'data/data/data_freq.csv';\")\n",
    "scoring.add_col(con,'test_data')\n"
   ]
  },
  {
   "cell_type": "markdown",
   "metadata": {},
   "source": [
    "Adding alpha missense annotation"
   ]
  },
  {
   "cell_type": "code",
   "execution_count": null,
   "metadata": {},
   "outputs": [],
   "source": [
    "# IMPORTANT only have to run it ONCE\n",
    "file_path = \"data/data/AlphaMissense_hg38.tsv\" \n",
    "add_annotation.am_df(con, file_path)"
   ]
  },
  {
   "cell_type": "code",
   "execution_count": null,
   "metadata": {},
   "outputs": [],
   "source": [
    "# Since alpha missense is a huge dataset, adding it within duckdb is more efficient\n",
    "add_annotation.add_am_path(con,'data') "
   ]
  },
  {
   "cell_type": "markdown",
   "metadata": {},
   "source": [
    "# Step 5: Apply the scoring system"
   ]
  },
  {
   "cell_type": "code",
   "execution_count": 15,
   "metadata": {},
   "outputs": [],
   "source": [
    "scoring.scoring(con, 'test_data')\n"
   ]
  },
  {
   "cell_type": "markdown",
   "metadata": {},
   "source": [
    "# Step 6: Obtain the output table"
   ]
  },
  {
   "cell_type": "code",
   "execution_count": 16,
   "metadata": {},
   "outputs": [],
   "source": [
    "test_data_result = scoring.final_score(con, 'test_data')\n",
    "# To save it\n",
    "file_path = \"result/test_data_result.tsv\"\n",
    "test_data_result.to_csv(file_path, sep='\\t', index=False) "
   ]
  },
  {
   "cell_type": "markdown",
   "metadata": {},
   "source": [
    "# Step 7: Visualisation (only when you have targeted vairants)"
   ]
  },
  {
   "cell_type": "markdown",
   "metadata": {},
   "source": [
    "#### Histogram\n",
    "To show the distribution of genetic variants score in one or mulitple patients. \n",
    "\n",
    "Multiple table and multiple variant from each table could be applied."
   ]
  },
  {
   "cell_type": "code",
   "execution_count": null,
   "metadata": {},
   "outputs": [],
   "source": [
    "# to show the histogram set a tuples as dataset\n",
    "# the tuple format should be (output table, one targeted variant, patient number)\n",
    "datasets = [\n",
    "    (test_data_result, 'chr4:54295165A>T', '1'),  \n",
    "    (test_data_result, 'chr19:1231143T>C', '2'), \n",
    "    (test_data_result, 'chr17:50375415A>C', '3'),\n",
    "    (test_data_result, 'chr1:89186388T>C', '4')\n",
    "    ]\n",
    "\n",
    "histogram.histogram(datasets)"
   ]
  },
  {
   "cell_type": "markdown",
   "metadata": {},
   "source": [
    "#### Validation Table \n",
    "To find all the position values of targeted genetic variants in each patient (including score, top percentage, the ranking (top), number of variants above this score, etc)\n",
    "\n",
    "Multiple table and multiple variant from each table could be applied"
   ]
  },
  {
   "cell_type": "code",
   "execution_count": 18,
   "metadata": {},
   "outputs": [],
   "source": [
    "table_and_variant_dict = {'test_data_result':(test_data_result, [\"chr4:54295165A>T\", \"chr1:89186388T>C\", \"chr19:1231143T>C\"])}\n",
    "validate_table_after = validation.validate_table(table_and_variant_dict)"
   ]
  },
  {
   "cell_type": "markdown",
   "metadata": {},
   "source": [
    "# Step 8: Extracting all records (annotations + score) of target variants\n",
    "Multiple table and multiple variant from each table could be applied"
   ]
  },
  {
   "cell_type": "code",
   "execution_count": 19,
   "metadata": {},
   "outputs": [],
   "source": [
    "# set a dict to obtain a table with all the target variants from different tables \n",
    "# # the structure of the dict {table1: ['var1', 'var2'...], table2: ['var1', 'var2'...],...}\n",
    "table_and_variant_dict = {\"test_data\": [\"chr4:54295165A>T\", \"chr1:89186388T>C\"]} \n",
    "table_name = \"testing\"\n",
    "targeted_variants = extraction.pathogenic_variant_table(con, table_and_variant_dict, table_name)"
   ]
  }
 ],
 "metadata": {
  "kernelspec": {
   "display_name": "base",
   "language": "python",
   "name": "python3"
  },
  "language_info": {
   "codemirror_mode": {
    "name": "ipython",
    "version": 3
   },
   "file_extension": ".py",
   "mimetype": "text/x-python",
   "name": "python",
   "nbconvert_exporter": "python",
   "pygments_lexer": "ipython3",
   "version": "3.9.13"
  }
 },
 "nbformat": 4,
 "nbformat_minor": 2
}
